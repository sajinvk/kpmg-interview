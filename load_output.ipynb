{
 "cells": [
  {
   "cell_type": "code",
   "execution_count": 17,
   "metadata": {},
   "outputs": [],
   "source": [
    "import pandas as pd \n",
    "import logging_class\n",
    "import json\n",
    "import sys \n",
    "\n",
    "class SaveOutput:\n",
    "    \n",
    "    log_file_name = 'etl_log.out'\n",
    "    config_file = 'config_data.json'\n",
    "    log = logging_class.setup_logging(log_file_name)\n",
    "    \n",
    "   \n",
    "    \n",
    "    def __init__(self , v_dataframe , v_out_name  ):\n",
    "        \n",
    "        try:\n",
    "            \n",
    "            self.dataframe = v_dataframe\n",
    "            self.name = v_out_name\n",
    "            self.log.logger.info('Get Argument for destination')\n",
    "            self.config_data =  json.load(open(self.config_file))\n",
    "           \n",
    "            for dest, desttype in self.config_data['out_data_type'].items():\n",
    "                         \n",
    "                if dest == 'operating_system':\n",
    "                    self.v_format_type = desttype['format']\n",
    "                    self.log.logger.info('Output logging format')\n",
    "                    self.log.logger.info(self.v_format_type)\n",
    "                \n",
    "        except:\n",
    "            self.log.logger.error('Cannot read Configuration file : config.json')\n",
    "            self.log.logger.error(sys.exc_info()[0])\n",
    "        \n",
    "    def save_data (self):\n",
    "        \n",
    "        try:\n",
    "            self.log.logger.info('Saving file : ' + self.name)\n",
    "\n",
    "            if self.v_format_type == 'csv' :\n",
    "                self.dataframe.to_csv(self.name)\n",
    "            elif self.v_format_type == 'json' :  \n",
    "                self.dataframe.to_json(self.name)\n",
    "            elif self.v_format_type == 'parquet' :\n",
    "                self.dataframe.to_parquet(self.name)\n",
    "            else:\n",
    "                self.log.logger.error('Wrong format specified .Check config file')\n",
    "            \n",
    "        except:   \n",
    "            self.log.logger.error('Error Saving file ')\n",
    "            self.log.logger.error(sys.exc_info()[0])\n",
    "            \n",
    "        \n",
    "      \n",
    "        "
   ]
  },
  {
   "cell_type": "code",
   "execution_count": 18,
   "metadata": {},
   "outputs": [],
   "source": [
    "x = SaveOutput('os','s')\n",
    "x.save_data()\n"
   ]
  },
  {
   "cell_type": "code",
   "execution_count": null,
   "metadata": {},
   "outputs": [],
   "source": []
  }
 ],
 "metadata": {
  "kernelspec": {
   "display_name": "Python 3",
   "language": "python",
   "name": "python3"
  },
  "language_info": {
   "codemirror_mode": {
    "name": "ipython",
    "version": 3
   },
   "file_extension": ".py",
   "mimetype": "text/x-python",
   "name": "python",
   "nbconvert_exporter": "python",
   "pygments_lexer": "ipython3",
   "version": "3.7.6"
  }
 },
 "nbformat": 4,
 "nbformat_minor": 4
}
